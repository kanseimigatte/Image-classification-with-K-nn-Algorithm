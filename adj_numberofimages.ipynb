{
 "cells": [
  {
   "cell_type": "code",
   "execution_count": 2,
   "id": "4a6b2a03",
   "metadata": {},
   "outputs": [],
   "source": [
    "# Created by GB - 10/22\n",
    "import glob\n",
    "import os\n",
    "def propofimages(path1,path2):\n",
    "    pathlist=[]\n",
    "    pathlist.append(path1)\n",
    "    pathlist.append(path2)\n",
    "    countlist=[]\n",
    "    namelist=[]\n",
    "    for _ in range(2):\n",
    "        listdir = os.listdir(pathlist[_])\n",
    "        num_items = len(listdir)\n",
    "        count=num_items\n",
    "        countlist.append(count)\n",
    "        countv = 1\n",
    "        for i in range(countv):\n",
    "            name_s = listdir[0]\n",
    "        name_s_v = name_s.split(\"_\")\n",
    "        nameofimage=name_s_v[0]\n",
    "        name=nameofimage\n",
    "        namelist.append(name)\n",
    "    return namelist, countlist"
   ]
  },
  {
   "cell_type": "code",
   "execution_count": 3,
   "id": "3b3c2a6a",
   "metadata": {},
   "outputs": [],
   "source": [
    "def deleteimages(path,namelistv,countlist):\n",
    "    delimiter=chr(92)\n",
    "    subpath_list = []\n",
    "    new_images = []\n",
    "    new_subpath_list =[]\n",
    "    for i in range(len(namelistv)):\n",
    "        print('{0} images were found for the class {1}'.format(countlist[i],namelistv[i]))\n",
    "        subpaths=path +delimiter+str(namelistv[i])+'_dir'\n",
    "        subpath_list.append(subpaths)\n",
    "    min_numb = min(countlist)\n",
    "    index = countlist.index(min_numb)\n",
    "    min_images = str(namelistv[index])\n",
    "    namelistv.remove(min_images)\n",
    "    countlist.remove(min_numb)\n",
    "    print('number of images is going to be adjusted wrt min number of images: {0} - {1}'.format(min_images,min_numb))\n",
    "    for i in range(len(namelistv)):\n",
    "        print('number of images of class {0} will be {1}'.format(namelistv[i],min_numb))\n",
    "    \n",
    "    counter = -1\n",
    "    for _ in range(len(namelistv)):\n",
    "        new_subpaths=path +delimiter+str(namelistv[i])+'_dir'+delimiter+str(namelistv[i])+'_img'\n",
    "        new_subpath_list.append(new_subpaths)\n",
    "        counter +=1\n",
    "        for dell in range(min_numb+1,int(countlist[i])+1):\n",
    "            dirr_s = new_subpath_list[counter]+'{}.jpg'.format(dell)\n",
    "            os.remove(dirr_s)\n",
    "    print('Number of images adjusted.')\n",
    "    return subpath_list,new_subpath_list"
   ]
  },
  {
   "cell_type": "code",
   "execution_count": 4,
   "id": "db71536e",
   "metadata": {},
   "outputs": [
    {
     "name": "stdout",
     "output_type": "stream",
     "text": [
      "['iron man comics', 'spider man comics']\n",
      "<class 'list'>\n",
      "[656, 697]\n",
      "<class 'list'>\n"
     ]
    }
   ],
   "source": [
    "path1=r'D:\\Downloads\\iron man comics_dir'\n",
    "path2=r'D:\\Downloads\\spider man comics_dir'\n",
    "name,count=propofimages(path1,path2)\n",
    "print(name)\n",
    "print(type(name))\n",
    "print(count)\n",
    "print(type(count))"
   ]
  },
  {
   "cell_type": "code",
   "execution_count": 5,
   "id": "a6da23af",
   "metadata": {},
   "outputs": [
    {
     "name": "stdout",
     "output_type": "stream",
     "text": [
      "656 images were found for the class iron man comics\n",
      "697 images were found for the class spider man comics\n",
      "number of images is going to be adjusted wrt min number of images: iron man comics - 656\n",
      "number of images of class spider man comics will be 656\n",
      "Number of images adjusted.\n",
      "['D:\\\\Downloads\\\\iron man comics_dir', 'D:\\\\Downloads\\\\spider man comics_dir']\n",
      "['D:\\\\Downloads\\\\spider man comics_dir\\\\spider man comics_img']\n"
     ]
    }
   ],
   "source": [
    "delimiter = chr(92)\n",
    "path3 = 'D:'+delimiter+'Downloads'\n",
    "b,c=deleteimages(path3,name,count)\n",
    "dirr=b[0]\n",
    "listdir = os.listdir(dirr)\n",
    "nitems=len(listdir)\n",
    "print(b)\n",
    "print(c)"
   ]
  }
 ],
 "metadata": {
  "kernelspec": {
   "display_name": "Python 3 (ipykernel)",
   "language": "python",
   "name": "python3"
  },
  "language_info": {
   "codemirror_mode": {
    "name": "ipython",
    "version": 3
   },
   "file_extension": ".py",
   "mimetype": "text/x-python",
   "name": "python",
   "nbconvert_exporter": "python",
   "pygments_lexer": "ipython3",
   "version": "3.9.12"
  }
 },
 "nbformat": 4,
 "nbformat_minor": 5
}
