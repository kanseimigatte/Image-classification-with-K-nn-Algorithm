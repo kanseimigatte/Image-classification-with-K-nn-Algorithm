{
 "cells": [
  {
   "cell_type": "code",
   "execution_count": 27,
   "id": "01bfcda1",
   "metadata": {},
   "outputs": [],
   "source": [
    "# Created by GB - 10/22\n",
    "from selenium import webdriver\n",
    "import time\n",
    "import urllib.request\n",
    "import os\n",
    "from selenium.webdriver.common.keys import Keys\n",
    "from selenium.webdriver.common.by import By\n",
    "from selenium.webdriver.support.wait import WebDriverWait\n",
    "from selenium.webdriver.support import expected_conditions as EC"
   ]
  },
  {
   "cell_type": "code",
   "execution_count": 43,
   "id": "b1fe1a90",
   "metadata": {},
   "outputs": [],
   "source": [
    "def download_images(query,path):\n",
    "    browser = webdriver.Chrome(executable_path=path)\n",
    "    browser.get(\"https://www.google.com/\")\n",
    "    search=browser.find_element(By.NAME,\"q\")\n",
    "    search.send_keys('{0}'.format(query),Keys.ENTER)\n",
    "    elem = browser.find_element(By.LINK_TEXT,\"Images\")\n",
    "    elem.get_attribute('href')\n",
    "    elem.click()\n",
    "    value = 0\n",
    "    ######\n",
    "    for i in range(30):\n",
    "        browser.execute_script(\"scrollBy(\"+ str(value)+\",+1000);\")\n",
    "        value += 1000\n",
    "        time.sleep(2)\n",
    "    wait = WebDriverWait(browser, 5)\n",
    "    element=wait.until(EC.element_to_be_clickable((By.CSS_SELECTOR, \"input[value='Show more results']\")))\n",
    "    element.click()\n",
    "    for i in range(30):\n",
    "        browser.execute_script(\"scrollBy(\"+ str(value)+\",+1000);\")\n",
    "        value += 1000\n",
    "        time.sleep(2)\n",
    "    elem1=browser.find_element(By.ID,\"islmp\")\n",
    "    sub = elem1.find_elements(By.TAG_NAME,\"img\")\n",
    "    ######\n",
    "    try:\n",
    "        os.mkdir('{}_dir'.format(str(query)))\n",
    "    except FileExitsError:\n",
    "        pass\n",
    "    count = 0\n",
    "    for i in sub:\n",
    "        src = i.get_attribute('src')\n",
    "        try:\n",
    "            if src != None:\n",
    "                src = str(src)\n",
    "                print(src)\n",
    "                count+=1\n",
    "                urllib.request.urlretrieve(src,os.path.join('{0}_dir','{0}_img'+str(count)+'.jpg').format(str(query)))\n",
    "            else:\n",
    "                raise TypeError\n",
    "                \n",
    "        except TypeError:\n",
    "            print('fail')"
   ]
  },
  {
   "cell_type": "code",
   "execution_count": null,
   "id": "c00e1903",
   "metadata": {},
   "outputs": [],
   "source": [
    "path = \"D:\\Downloads\\chromedriver\\chromedriver.exe\"\n",
    "query_str = str('iron man comics')\n",
    "download_images(query_str,path)"
   ]
  }
 ],
 "metadata": {
  "kernelspec": {
   "display_name": "Python 3 (ipykernel)",
   "language": "python",
   "name": "python3"
  },
  "language_info": {
   "codemirror_mode": {
    "name": "ipython",
    "version": 3
   },
   "file_extension": ".py",
   "mimetype": "text/x-python",
   "name": "python",
   "nbconvert_exporter": "python",
   "pygments_lexer": "ipython3",
   "version": "3.9.12"
  }
 },
 "nbformat": 4,
 "nbformat_minor": 5
}
