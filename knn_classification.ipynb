{
 "cells": [
  {
   "cell_type": "code",
   "execution_count": 9,
   "id": "b7167cc4",
   "metadata": {},
   "outputs": [],
   "source": [
    "# Created by GB - 10/22\n",
    "import numpy as np\n",
    "import pandas as pd\n",
    "import os\n",
    "from PIL import Image\n",
    "import random\n",
    "import statistics\n",
    "def numpy_arrays(path1,path2):\n",
    "    delimiter = chr(92)\n",
    "    path_list = []\n",
    "    arrays_list1 = []\n",
    "    arrays_list2 = []\n",
    "    path_list.append(path1)\n",
    "    path_list.append(path2)\n",
    "    counter = 0\n",
    "    for paths in range(len(path_list)):\n",
    "        listdir = os.listdir(path_list[paths])\n",
    "        counter += 1\n",
    "        for items in listdir:\n",
    "            items.split()\n",
    "            if counter == 1:\n",
    "                image = PIL.Image.open(path1+delimiter+items)\n",
    "            else:\n",
    "                image = PIL.Image.open(path2+delimiter+items)\n",
    "            image_inf = image.getdata()\n",
    "            sub_array = np.array(image_inf)\n",
    "            if counter == 1:\n",
    "                arrays_list1.append(sub_array)\n",
    "            else:\n",
    "                arrays_list2.append(sub_array)\n",
    "    \n",
    "    ones= np.ones((len(arrays_list1),), dtype=int)\n",
    "    ones = ones.tolist()\n",
    "    zeros= np.zeros((len(arrays_list2),), dtype=int)\n",
    "    zeros = zeros.tolist()\n",
    "    return arrays_list1,arrays_list2,ones,zeros"
   ]
  },
  {
   "cell_type": "code",
   "execution_count": 2,
   "id": "960a4b33",
   "metadata": {},
   "outputs": [],
   "source": [
    "def conc_lists(array1,array2,ones,zeros):\n",
    "    arrayX = array1\n",
    "    arrayY = ones\n",
    "    for i in range(len(array2)):\n",
    "        arrayX.append(array2[i])\n",
    "    for x in range(len(zeros)):\n",
    "        arrayY.append(zeros[x])\n",
    "        \n",
    "    return arrayX, arrayY"
   ]
  },
  {
   "cell_type": "code",
   "execution_count": 3,
   "id": "2919001d",
   "metadata": {},
   "outputs": [],
   "source": [
    "def shuffle(X1,X2):\n",
    "    X3 = list(zip(X1,X2))\n",
    "    random.shuffle(X3)\n",
    "    X1,X2 = zip(*X3)\n",
    "    return X1,X2"
   ]
  },
  {
   "cell_type": "code",
   "execution_count": 4,
   "id": "d9a5721f",
   "metadata": {},
   "outputs": [],
   "source": [
    "def train_test_split(array1,array2,train_size):\n",
    "        len_array1 = len(array1)\n",
    "        len_array2 = len(array2)\n",
    "        array1_train_size = int(train_size*len_array1)\n",
    "        array2_train_size = int(train_size*len_array2)\n",
    "        X_train = array1[:array1_train_size]\n",
    "        Y_train = array2[:array1_train_size]\n",
    "        X_test = array1[array2_train_size:]\n",
    "        Y_test = array2[array2_train_size:]\n",
    "        return X_train,Y_train,X_test,Y_test"
   ]
  },
  {
   "cell_type": "code",
   "execution_count": 5,
   "id": "95bae1ce",
   "metadata": {},
   "outputs": [],
   "source": [
    "def euclidean_distance(subarray1,subarray2):\n",
    "    distance = 0\n",
    "    distance_total = np.linalg.norm(subarray1-subarray2)\n",
    "    return distance_total"
   ]
  },
  {
   "cell_type": "code",
   "execution_count": 6,
   "id": "c2128b92",
   "metadata": {},
   "outputs": [],
   "source": [
    "def knn_classification(train_X,train_Y,test_X,test_Y,kernel_width):\n",
    "    predicted = []\n",
    "    #test points will be used to measure the distance with train data\n",
    "    #train data in KNN is not the same with NN -> do not effect any weights or sth.\n",
    "    for testXs in test_X:\n",
    "        sub_distances = []\n",
    "        for _ in range(len(train_X)):\n",
    "    #every point in train data is used to measure distances with single test data\n",
    "            sub_distances.append([euclidean_distance(train_X[_],testXs),train_Y[_]])\n",
    "        sub_distance_inf = pd.DataFrame(data=sub_distances,columns=['dist','label'])\n",
    "        knn_sub = sub_distance_inf.sort_values(by=['dist'],axis=0)[:kernel_width]\n",
    "        labels = knn_sub['label']\n",
    "        voting = statistics.mode(labels)\n",
    "        predicted.append(voting)\n",
    "    return predicted"
   ]
  },
  {
   "cell_type": "code",
   "execution_count": 7,
   "id": "404138c3",
   "metadata": {},
   "outputs": [],
   "source": [
    "def accuracy_s(y_true,y_pred):\n",
    "    len_of_t = len(y_true)\n",
    "    len_of_p = len(y_pred)\n",
    "    true = 0\n",
    "    if len_of_t != len_of_p:\n",
    "        print(\"The sizes are not matched !\")\n",
    "    else:\n",
    "        for _ in range(len_of_t):\n",
    "            if y_true[_]==y_pred[_]:\n",
    "                true += 1\n",
    "                \n",
    "                \n",
    "    accuracy = true/len_of_t\n",
    "    return accuracy\n",
    "                "
   ]
  },
  {
   "cell_type": "code",
   "execution_count": 10,
   "id": "b61ab23b",
   "metadata": {},
   "outputs": [
    {
     "name": "stdout",
     "output_type": "stream",
     "text": [
      "class 1 len:  656\n",
      "class 1 data type:  <class 'list'>\n",
      "class 1 image size (multiplicated):  (160000,)\n",
      "class 2 len:  656\n",
      "class 2 data type:  <class 'list'>\n",
      "class 2 image size (multiplicated):  (160000,)\n",
      "class 1 y len:  656\n"
     ]
    }
   ],
   "source": [
    "# This part is created to obtain numpy arrays of the related images\n",
    "path1=r'D:\\Downloads\\iron man comics_dir_resized'\n",
    "path2=r'D:\\Downloads\\spider man comics_dir_resized'\n",
    "array1,array2,ones,zeros=numpy_arrays(path1,path2)\n",
    "# array1 and 2 is the raw numpy arrays of two related classes\n",
    "# ones and zeros was created to obtain y values of classes, it will be used for classification.\n",
    "# For more classes, another numpy arrays can be added, ones and zeros can be changed as for loop to create class lists/arrays.\n",
    "print('class 1 len: ',len(array1))\n",
    "print('class 1 data type: ',type(array1))\n",
    "print('class 1 image size (multiplicated): ',array1[1].shape)\n",
    "print('class 2 len: ',len(array2))\n",
    "print('class 2 data type: ',type(array2))\n",
    "print('class 2 image size (multiplicated): ',array2[1].shape)\n",
    "print('class 1 y len: ',len(ones))\n",
    "#Note: PIL can give some errors while running this cell, to solve this, from PIL import Image or import PIL directly."
   ]
  },
  {
   "cell_type": "code",
   "execution_count": 11,
   "id": "8c5b7d11",
   "metadata": {},
   "outputs": [
    {
     "data": {
      "text/plain": [
       "1312"
      ]
     },
     "execution_count": 11,
     "metadata": {},
     "output_type": "execute_result"
    }
   ],
   "source": [
    "# This part is used to concancate class arrays and their y values\n",
    "arrayX,arrayY = conc_lists(array1,array2,ones,zeros)\n",
    "len(arrayY)"
   ]
  },
  {
   "cell_type": "code",
   "execution_count": 12,
   "id": "7ea755a0",
   "metadata": {},
   "outputs": [
    {
     "data": {
      "text/plain": [
       "1312"
      ]
     },
     "execution_count": 12,
     "metadata": {},
     "output_type": "execute_result"
    }
   ],
   "source": [
    "# This part is used to shuffle all data with same way.\n",
    "# After running, we have more realistic data to classificate\n",
    "array_X,array_Y = shuffle(arrayX,arrayY)\n",
    "len(array_X)"
   ]
  },
  {
   "cell_type": "code",
   "execution_count": 14,
   "id": "b3711ded",
   "metadata": {},
   "outputs": [
    {
     "name": "stdout",
     "output_type": "stream",
     "text": [
      "length of X values of train data:  1180\n",
      "length of Y values of train data:  1180\n",
      "length of X values of test data:  132\n",
      "length of Y values of test data:  132\n"
     ]
    }
   ],
   "source": [
    "# This part is to split the data into train and test datas.\n",
    "train_X,train_Y,test_X,test_Y=train_test_split(array_X,array_Y,train_size=0.9)\n",
    "print('length of X values of train data: ',len(train_X))\n",
    "print('length of Y values of train data: ',len(train_Y))\n",
    "print('length of X values of test data: ',len(test_X))\n",
    "print('length of Y values of test data: ',len(test_Y))"
   ]
  },
  {
   "cell_type": "code",
   "execution_count": 15,
   "id": "5a181ccb",
   "metadata": {},
   "outputs": [],
   "source": [
    "accuracy_list = []\n",
    "kernel_widths= [3,5,7,9,15,25,35,45,55]\n",
    "for i in kernel_widths:\n",
    "    y_hat_test = knn_classification(train_X,train_Y,test_X,test_Y,kernel_width = i)\n",
    "    accuracy_f = accuracy_s(test_Y,y_hat_test)\n",
    "    accuracy_list.append(accuracy_f)"
   ]
  },
  {
   "cell_type": "code",
   "execution_count": 19,
   "id": "c0c71d32",
   "metadata": {
    "scrolled": true
   },
   "outputs": [
    {
     "data": {
      "text/plain": [
       "[0.5681818181818182,\n",
       " 0.5757575757575758,\n",
       " 0.5984848484848485,\n",
       " 0.5454545454545454,\n",
       " 0.6060606060606061,\n",
       " 0.6212121212121212,\n",
       " 0.6212121212121212,\n",
       " 0.5984848484848485,\n",
       " 0.5833333333333334]"
      ]
     },
     "execution_count": 19,
     "metadata": {},
     "output_type": "execute_result"
    }
   ],
   "source": [
    "accuracy_list"
   ]
  },
  {
   "cell_type": "code",
   "execution_count": 20,
   "id": "b4be2329",
   "metadata": {},
   "outputs": [],
   "source": [
    "# Calculating the accuracy of the different kernel widths can take a lot of time\n",
    "# To see the result of different kernel tuning, another loop can be used, thus, experiments can be done easily\n",
    "kernel_widths2= [65,75,85,95]\n",
    "for i in kernel_widths2:\n",
    "    y_hat_test = knn_classification(train_X,train_Y,test_X,test_Y,kernel_width = i)\n",
    "    accuracy_f = accuracy_s(test_Y,y_hat_test)\n",
    "    accuracy_list.append(accuracy_f)"
   ]
  },
  {
   "cell_type": "code",
   "execution_count": 21,
   "id": "f810998f",
   "metadata": {},
   "outputs": [
    {
     "data": {
      "text/plain": [
       "[0.5681818181818182,\n",
       " 0.5757575757575758,\n",
       " 0.5984848484848485,\n",
       " 0.5454545454545454,\n",
       " 0.6060606060606061,\n",
       " 0.6212121212121212,\n",
       " 0.6212121212121212,\n",
       " 0.5984848484848485,\n",
       " 0.5833333333333334,\n",
       " 0.5833333333333334,\n",
       " 0.5303030303030303,\n",
       " 0.5378787878787878,\n",
       " 0.5303030303030303]"
      ]
     },
     "execution_count": 21,
     "metadata": {},
     "output_type": "execute_result"
    }
   ],
   "source": [
    "accuracy_list"
   ]
  },
  {
   "cell_type": "code",
   "execution_count": 22,
   "id": "d709275b",
   "metadata": {},
   "outputs": [],
   "source": [
    "kernels = [3,5,7,9,15,25,35,45,55,65,75,85,95] #concatenate the kernel widths"
   ]
  },
  {
   "cell_type": "code",
   "execution_count": 23,
   "id": "97a8c76e",
   "metadata": {},
   "outputs": [],
   "source": [
    "import matplotlib.pyplot as plt"
   ]
  },
  {
   "cell_type": "code",
   "execution_count": 27,
   "id": "cd9baea7",
   "metadata": {},
   "outputs": [
    {
     "data": {
      "text/plain": [
       "[<matplotlib.lines.Line2D at 0x1cd19eab370>]"
      ]
     },
     "execution_count": 27,
     "metadata": {},
     "output_type": "execute_result"
    },
    {
     "data": {
      "image/png": "[encoded data removed]",
      "text/plain": [
       "<Figure size 432x288 with 1 Axes>"
      ]
     },
     "metadata": {
      "needs_background": "light"
     },
     "output_type": "display_data"
    }
   ],
   "source": [
    "plt.plot(kernels,accuracy_list,color='r',marker='o')"
   ]
  },
  {
   "cell_type": "code",
   "execution_count": 30,
   "id": "4ca85df4",
   "metadata": {},
   "outputs": [
    {
     "name": "stdout",
     "output_type": "stream",
     "text": [
      "Max accuracy is 0.6212121212121212 with 25 nearest neigbors\n"
     ]
    }
   ],
   "source": [
    "max_accuracy = max(accuracy_list)\n",
    "index= accuracy_list.index(max_accuracy)\n",
    "best_k = kernels[index]\n",
    "print('Max accuracy is {0} with {1} nearest neigbors'.format(max_accuracy,best_k))"
   ]
  },
  {
   "cell_type": "code",
   "execution_count": null,
   "id": "d39f67db",
   "metadata": {},
   "outputs": [],
   "source": [
    "# Iron man and spider man comics classificated with 62.1% accuracy."
   ]
  }
 ],
 "metadata": {
  "kernelspec": {
   "display_name": "Python 3 (ipykernel)",
   "language": "python",
   "name": "python3"
  },
  "language_info": {
   "codemirror_mode": {
    "name": "ipython",
    "version": 3
   },
   "file_extension": ".py",
   "mimetype": "text/x-python",
   "name": "python",
   "nbconvert_exporter": "python",
   "pygments_lexer": "ipython3",
   "version": "3.9.12"
  }
 },
 "nbformat": 4,
 "nbformat_minor": 5
}
