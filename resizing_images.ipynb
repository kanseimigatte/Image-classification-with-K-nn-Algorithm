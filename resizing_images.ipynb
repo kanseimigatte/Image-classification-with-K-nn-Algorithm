{
 "cells": [
  {
   "cell_type": "code",
   "execution_count": 1,
   "id": "3545548c",
   "metadata": {},
   "outputs": [],
   "source": [
    "# Created by GB - 10/22\n",
    "from PIL import Image\n",
    "import os\n",
    "import glob\n",
    "def resizing_images(height,width,path_o):\n",
    "    delimiter = chr(92)\n",
    "    listdir = os.listdir(path_o)\n",
    "    name_s = listdir[0]\n",
    "    name_s_v = name_s.split(\"_\")\n",
    "    nameofimage=name_s_v[0]\n",
    "    resized_dir = os.mkdir(path_o+'_resized')\n",
    "    counter = 1\n",
    "    for i in listdir:\n",
    "        image = Image.open(path_o+delimiter+i).convert('L')\n",
    "        resized_image=image.resize((height,width))\n",
    "        resized_image.save(path_o+'_resized'+delimiter+nameofimage+'_{0}.jpg'.format(counter),'JPEG')\n",
    "        counter += 1\n",
    "    return print('All images resized and converted')"
   ]
  },
  {
   "cell_type": "code",
   "execution_count": 3,
   "id": "dbd1cae0",
   "metadata": {},
   "outputs": [
    {
     "name": "stdout",
     "output_type": "stream",
     "text": [
      "All images resized and converted\n"
     ]
    }
   ],
   "source": [
    "path2=r'D:\\Downloads\\iron man comics_dir'\n",
    "resizing_images(400,400,path2)\n"
   ]
  }
 ],
 "metadata": {
  "kernelspec": {
   "display_name": "Python 3 (ipykernel)",
   "language": "python",
   "name": "python3"
  },
  "language_info": {
   "codemirror_mode": {
    "name": "ipython",
    "version": 3
   },
   "file_extension": ".py",
   "mimetype": "text/x-python",
   "name": "python",
   "nbconvert_exporter": "python",
   "pygments_lexer": "ipython3",
   "version": "3.9.12"
  }
 },
 "nbformat": 4,
 "nbformat_minor": 5
}
